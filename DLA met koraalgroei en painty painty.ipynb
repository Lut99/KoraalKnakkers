{
 "cells": [
  {
   "cell_type": "code",
   "execution_count": 1,
   "id": "61fda4cd",
   "metadata": {},
   "outputs": [],
   "source": [
    "import numpy as np\n",
    "import scipy\n",
    "import matplotlib.pyplot as plt\n",
    "import matplotlib.animation as animation\n",
    "from copy import copy, deepcopy\n",
    "from scipy import special\n",
    "import pandas as pd\n",
    "import matplotlib as mpl\n",
    "from matplotlib.colors import colorConverter\n",
    "import time\n",
    "import pystencils\n",
    "import sympy\n",
    "from lbmpy.session import *"
   ]
  },
  {
   "cell_type": "code",
   "execution_count": 2,
   "id": "7629485c",
   "metadata": {},
   "outputs": [],
   "source": [
    "# SOR iterative method with objects\n",
    "\n",
    "# function to find final diffusion gradient with objects\n",
    "def SOR_with_objects(N, omega, object_array, conc_mat):\n",
    "    def SOR(conc_mat, omega):\n",
    "        conc_mat[N - 1] = 1\n",
    "        \n",
    "        # left boundary\n",
    "        for k in range(1,N-1):\n",
    "            # if part of object, concentration is zero\n",
    "            if object_array[k][0] == 1:\n",
    "                    conc_mat[k][0] = 0\n",
    "            \n",
    "            # otherwise: SOR equation\n",
    "            else:\n",
    "                conc_mat[k][0] = omega / 4 * (conc_mat[k + 1][0] + conc_mat[k - 1][0] + conc_mat[k][1] + conc_mat[k][N-1]) + (1-omega)*conc_mat[k][0]\n",
    "        \n",
    "        # middle of matrix\n",
    "        for j in range(N-1):\n",
    "            for i in range(1,N-1):\n",
    "                # if part of object, concentration is zero\n",
    "                if object_array[i][j] == 1:\n",
    "                    conc_mat[i][j] = 0\n",
    "                \n",
    "                # otherwise: SOR equation\n",
    "                else:\n",
    "                    conc_mat[i][j] = (omega/4)*(conc_mat[i+1][j] + conc_mat[i-1][j] + conc_mat[i][j+1] + conc_mat[i][j-1]) + (1-omega)*conc_mat[i][j]\n",
    "                    if conc_mat[i][j] < 0:\n",
    "                        conc_mat[i][j] = 0\n",
    "        # right boundary\n",
    "        for k in range(1,N-1):\n",
    "            # if part of object, concentration is zero\n",
    "            if object_array[k][N-1] == 1:\n",
    "                conc_mat[k][N-1] = 0\n",
    "            \n",
    "            # otherwise: SOR equation\n",
    "            else:\n",
    "                conc_mat[k][N-1] = omega/4*(conc_mat[k+1][N-1] + conc_mat[k-1][N-1] + conc_mat[k][0] + conc_mat[k][N-2]) + (1-omega)*conc_mat[k][N-1]\n",
    "\n",
    "        return conc_mat\n",
    "\n",
    "    # initialise parameters\n",
    "    i = 0 # iterations\n",
    "    epsilon = 10**-5\n",
    "    diff = 100000 # set to large value    \n",
    "\n",
    "    # loop until convergence\n",
    "    while diff > epsilon:\n",
    "        conc_mat_old = deepcopy(conc_mat)\n",
    "        conc_mat = SOR(conc_mat,omega)\n",
    "        diff = np.amax(np.abs(conc_mat - conc_mat_old))\n",
    "        i += 1\n",
    "    return diff, i,conc_mat,conc_mat_old"
   ]
  },
  {
   "cell_type": "code",
   "execution_count": 3,
   "id": "dbc0b94a",
   "metadata": {},
   "outputs": [],
   "source": [
    "# function to find the neighbours of a new object cell, add to set (so all candidates are unique) \n",
    "def get_candidates_SOR(object_loc,object_array,candidates):\n",
    "    # check if north, south,east, west neighbours are NOT part of object, and add them to candidates\n",
    "    if object_loc[1]!=N-1 and object_array[object_loc[0]][object_loc[1]+1] == 0:\n",
    "        candidates.add((object_loc[0],object_loc[1]+1))\n",
    "    if object_loc[1]!=0 and object_array[object_loc[0]][object_loc[1]-1] == 0:\n",
    "        candidates.add((object_loc[0],object_loc[1]-1))\n",
    "    if object_loc[0]!=N-1 and object_array[object_loc[0]+1][object_loc[1]] == 0:\n",
    "        candidates.add((object_loc[0]+1,object_loc[1]))\n",
    "    if object_loc[0]!=0 and object_array[object_loc[0]-1][object_loc[1]] == 0:\n",
    "        candidates.add((object_loc[0]-1,object_loc[1]))\n",
    "\n",
    "    return candidates\n",
    "\n",
    "# function to calculate the SOR of a grid with object, until convergence, with growing object\n",
    "def SOR_DLA_to_solution(N,eta,omega,iterations):\n",
    "    # calculate the analytic solution at t=1\n",
    "    t = 1\n",
    "    analytic_sol = lambda x, D, t: sum([scipy.special.erfc((1-x+2*i)/(2*np.sqrt(D*t))) - scipy.special.erfc((1+x+2*i)/(2*np.sqrt(D*t))) for i in range(10000)])\n",
    "    x = np.arange(0, 1, 1 / N)\n",
    "    analytic_matrix = analytic_sol(x, 1, t)\n",
    "    seed_coor_y = int(N / 2)\n",
    "\n",
    "    # initialise start diffusion gradient as the analytic solution\n",
    "    conc_mat = np.zeros((N,N))\n",
    "    for i in range(N):\n",
    "        conc_mat[i] = analytic_matrix[i]\n",
    "\n",
    "    # source top boundary\n",
    "    conc_mat[N-1] = 1\n",
    "\n",
    "    # initalisation of array with seed of object\n",
    "    object_array = np.zeros((N, N))\n",
    "    object_array[0, seed_coor_y] = 1\n",
    "    candidates = set()\n",
    "    candidates = get_candidates_SOR((0, seed_coor_y), object_array, candidates)\n",
    "    \n",
    "    # first SOR \n",
    "    difference, i, conc_mat,concold = SOR_with_objects(N,omega,object_array,conc_mat)\n",
    "  \n",
    "    # keep track of iterations needed\n",
    "    totaliterations = 0\n",
    "    \n",
    "    # loop until object is grown 'iterations' times, finding SOR with each growth\n",
    "    for k in range(iterations):\n",
    "        object_array,conc_mat, candidates = choose_growth(N,eta,conc_mat, candidates, object_array)\n",
    "        difference, i, conc_mat,concold = SOR_with_objects(N,omega,object_array,conc_mat)\n",
    "        totaliterations += i\n",
    "\n",
    "    plt.imshow(conc_mat,origin='lower',extent=[0,1,0,1],cmap='Spectral')\n",
    "    return conc_mat,object_array, totaliterations, object_array\n",
    "    \n",
    "def choose_growth(N,eta,conc_mat, candidates, object_array):\n",
    "\n",
    "    # calculate the probabilities of growth for each candidate\n",
    "    probs = []\n",
    "    for i in candidates:\n",
    "        prob = (conc_mat[i]**eta)/np.sum([conc_mat[cand]**eta for cand in candidates])\n",
    "        probs.append(prob)\n",
    "\n",
    "    # choose one and grow\n",
    "    list_candidates = list(candidates)\n",
    "    chosengrowth = list_candidates[np.random.choice(len(candidates),p=probs)]\n",
    "    object_array[chosengrowth] = 1\n",
    "    candidates = get_candidates_SOR(chosengrowth, object_array, candidates)\n",
    "    conc_mat[chosengrowth] = 0\n",
    "\n",
    "    return object_array,conc_mat, candidates\n",
    "    \n"
   ]
  },
  {
   "cell_type": "code",
   "execution_count": 4,
   "id": "c5dadbca",
   "metadata": {},
   "outputs": [],
   "source": [
    "# function to make a combined imshow plot, where the object is visible along with the gradient\n",
    "\n",
    "## code (with small adjustments) based on answer at: https://stackoverflow.com/questions/10127284/overlay-imshow-plots-in-matplotlib\n",
    "def plot_object_gradient(conc_mat, object_array,eta):\n",
    "    # generate the colors for your colormap\n",
    "    color1 = colorConverter.to_rgba('white')\n",
    "    color2 = colorConverter.to_rgba('black')\n",
    "\n",
    "    # make the colormaps\n",
    "    cmap2 = mpl.colors.LinearSegmentedColormap.from_list('my_cmap2',[color1,color2],256)\n",
    "    cmap2._init() # create the _lut array, with rgba values\n",
    "\n",
    "    # create your alpha array and fill the colormap with them.\n",
    "    # here it is progressive, but you can create whathever you want\n",
    "    alphas = np.linspace(0, 0.8, cmap2.N+3)\n",
    "    cmap2._lut[:,-1] = alphas\n",
    "\n",
    "    img2 = plt.imshow(conc_mat, interpolation='nearest', cmap='Spectral', origin='lower', extent=[0,1,0,1])\n",
    "    plt.colorbar()\n",
    "    img3 = plt.imshow(object_array, interpolation='nearest', cmap=cmap2, origin='lower', extent=[0,1,0,1])\n",
    "\n",
    "    plt.title(f\"Object with gradient, eta = {eta}\")\n",
    "\n",
    "    \n",
    "    plt.show()"
   ]
  },
  {
   "cell_type": "code",
   "execution_count": 5,
   "id": "3f01db0b",
   "metadata": {},
   "outputs": [
    {
     "data": {
      "image/png": "[encoded data removed]",
      "text/plain": [
       "<Figure size 1152x432 with 2 Axes>"
      ]
     },
     "metadata": {
      "needs_background": "light"
     },
     "output_type": "display_data"
    }
   ],
   "source": [
    "# test run\n",
    "\n",
    "# initialise parameters\n",
    "N = 25\n",
    "eta = 1 \n",
    "omega = 1.5\n",
    "iterations = 20\n",
    "\n",
    "conc_mat, object_array, totaliterations, object_array = SOR_DLA_to_solution(N,eta,omega,iterations)\n",
    "plot_object_gradient(conc_mat, object_array, 1)"
   ]
  },
  {
   "cell_type": "code",
   "execution_count": 6,
   "id": "4d4a2581",
   "metadata": {},
   "outputs": [
    {
     "data": {
      "text/plain": [
       "<matplotlib.image.AxesImage at 0x7f44ed545fd0>"
      ]
     },
     "execution_count": 6,
     "metadata": {},
     "output_type": "execute_result"
    },
    {
     "data": {
      "image/png": "[encoded data removed]",
      "text/plain": [
       "<Figure size 3200x1200 with 1 Axes>"
      ]
     },
     "metadata": {
      "needs_background": "light"
     },
     "output_type": "display_data"
    }
   ],
   "source": [
    "import pystencils\n",
    "import sympy\n",
    "from lbmpy.session import *\n",
    "# example lid driven cavity\n",
    "ldc = create_lid_driven_cavity(domain_size=(100, 40), method='srt', relaxation_rate=1.6)\n",
    "\n",
    "ldc.run(500)\n",
    "plt.figure(dpi=200)\n",
    "#plt.vector_field(ldc.velocity_slice());\n",
    "\n",
    "plt.scalar_field(ldc.velocity[:, :, 0])"
   ]
  },
  {
   "cell_type": "code",
   "execution_count": 7,
   "id": "29ca790b",
   "metadata": {},
   "outputs": [
    {
     "data": {
      "text/plain": [
       "<matplotlib.image.AxesImage at 0x7f44ed49cf10>"
      ]
     },
     "execution_count": 7,
     "metadata": {},
     "output_type": "execute_result"
    },
    {
     "data": {
      "image/png": "[encoded data removed]",
      "text/plain": [
       "<Figure size 1152x432 with 1 Axes>"
      ]
     },
     "metadata": {
      "needs_background": "light"
     },
     "output_type": "display_data"
    }
   ],
   "source": [
    "scenario = create_channel(domain_size=(100,100), force=1e-4,duct=True, method='srt', relaxation_rate=1.9)\n",
    "#flag = scenario.boundary_handling.set_boundary(NoSlip(), make_slice[0.3:0.4, 0.0:0.3])\n",
    "#print(np.where(object_array==1))\n",
    "\n",
    "\n",
    "for j in range(N-1):\n",
    "    for i in range(1,N-1):\n",
    "        # if part of object, concentration is zero\n",
    "            if object_array[i][j] == 1:\n",
    "                flag = scenario.boundary_handling.set_boundary(NoSlip(), make_slice[j,i])\n",
    "scenario.run(500)\n",
    "\n",
    "plt.figure()\n",
    "plt.scalar_field(scenario.velocity[:,:,0])\n",
    "# plt.vector_field(scenario.velocity_slice());"
   ]
  },
  {
   "cell_type": "code",
   "execution_count": 8,
   "id": "be5e17a2-5279-450c-a375-3f426a9f8d27",
   "metadata": {},
   "outputs": [],
   "source": [
    "import math\n",
    "\n",
    "# The threshold which the pressure needs to reach before the coral breaks (disappears)\n",
    "THRESHOLD = 0.005\n",
    "\n",
    "def coral_breaky_breaky(seed_coord_x, coral_matrix, vector_field, copy=True):\n",
    "    \"\"\"\n",
    "        Function that computes if the coral is gonna breaky breaky\n",
    "        \n",
    "        Parameters:\n",
    "          - seed_coord_x: the x-coordinate of the seed of the coral (the y is\n",
    "            assumed to be 0)\n",
    "          - coral_matrix: a numpy array of 0's and 1's that determine where\n",
    "            the coral is\n",
    "          - vector_field: (I assume?) een numpy array of 2D vectors\n",
    "          - copy: If True, does not modify the original object but instead returns a new one\n",
    "          \n",
    "        Returns:\n",
    "          - The coral matrix with the relevant pixels removed\n",
    "    \"\"\"\n",
    "    \n",
    "    # Copy the matrix if the user so desires\n",
    "    if copy:\n",
    "        coral_matrix = coral_matrix.copy()\n",
    "        \n",
    "    # Loop through the coral matrix to find the corals\n",
    "    for y in range(len(coral_matrix)):\n",
    "        for x in range(len(coral_matrix[y])):\n",
    "            if (x == seed_coord_x and y == 0) or coral_matrix[y][x] == 0: continue\n",
    "\n",
    "            # Compute the pressure at this point (i.e., length of the vector)\n",
    "            pressure = math.sqrt(vector_field[x, y][0] ** 2 + vector_field[x, y][1] ** 2)\n",
    "\n",
    "            # If the pressure exceeds the threshold, remove the coral (:()\n",
    "            if pressure > THRESHOLD:\n",
    "                coral_matrix[y][x] = 0\n",
    "\n",
    "    # We're done! Return the result\n",
    "    return coral_matrix"
   ]
  },
  {
   "cell_type": "code",
   "execution_count": 9,
   "id": "cfdd970a-75a1-4ecd-b89e-04830b78fbf6",
   "metadata": {},
   "outputs": [],
   "source": [
    "def coral_painty_painty(seed_coord_x, coral_matrix, copy=True):\n",
    "    \"\"\"\n",
    "        Function that checks which pixels are still connected to the source,\n",
    "        and removes them. Also returns a new list of potential growth\n",
    "        candidates.\n",
    "        \n",
    "        Note: We assume that a diagonal connection == no connection\n",
    "        \n",
    "        Parameters:\n",
    "          - seed_coord_x: the x-coordinate of the seed of the coral (the y is\n",
    "            assumed to be 0)\n",
    "          - coral_matrix: a numpy array of 0's and 1's that determine where\n",
    "            the coral is\n",
    "          - copy: If True, does not modify the original object but instead returns a new one\n",
    "        \n",
    "        Returns:\n",
    "        A tuple of:\n",
    "          - The coral matrix, with all the unconnected pixels removed\n",
    "          - A new list of growth candidates\n",
    "    \"\"\"\n",
    "    \n",
    "    # Copy the matrix if the user so desires\n",
    "    if copy:\n",
    "        coral_matrix = coral_matrix.copy()\n",
    "        \n",
    "    # Do a breadth-first search starting at the seed to see which pixels are connected to the seed\n",
    "    coral_matrix[0][seed_coord_x] = 2\n",
    "    to_do = [(seed_coord_x, 0)]\n",
    "    candidates = set()\n",
    "    while len(to_do) > 0:\n",
    "        # Fetch the pixel to check\n",
    "        x, y = to_do[0]\n",
    "        to_do = to_do[1:]\n",
    "        \n",
    "        # Get the area around the pixel\n",
    "        for neighbour in [(-1, 0), (0, 1), (1, 0), (0, -1)]:\n",
    "            nx = x + neighbour[0]\n",
    "            ny = y + neighbour[1]\n",
    "            \n",
    "            # Skip if the pixel is out-of-bounds\n",
    "            if nx < 0 or nx > coral_matrix.shape[0] - 1 or ny < 0 or ny > coral_matrix.shape[1] - 1:\n",
    "                continue\n",
    "            \n",
    "            # If the pixel is not a pixel, then store it as possible growth candidate\n",
    "            if coral_matrix[ny][nx] == 0:\n",
    "                # Uncomment for the correct candidates order\n",
    "#                 candidates.add((nx, ny))\n",
    "                candidates.add((ny, nx))\n",
    "            \n",
    "            # If it is an (unvisited) pixel, then mark as visited/connected and add it to the todo list\n",
    "            if coral_matrix[ny][nx] == 1:\n",
    "                # Mark the pixel as connected\n",
    "                coral_matrix[ny][nx] = 2\n",
    "                \n",
    "                # Add to the queue\n",
    "                to_do.append((nx, ny))\n",
    "    \n",
    "    # Go thru the matrix again and remove anything that's a 1\n",
    "    coral_matrix[coral_matrix == 1] = 0\n",
    "    # Convert the visited pixels back to 1's\n",
    "    coral_matrix[coral_matrix == 2] = 1\n",
    "    \n",
    "    # Done!\n",
    "    return coral_matrix, candidates"
   ]
  },
  {
   "cell_type": "code",
   "execution_count": 10,
   "id": "b2e2353a-9c6f-464d-a2ca-3b6f3b956d01",
   "metadata": {},
   "outputs": [],
   "source": [
    "def coral_density(seed_coord_x, coral_matrix):\n",
    "    \"\"\"\n",
    "        Function that computes the average distance per pixel to the source\n",
    "        for the entire coral.\n",
    "        \n",
    "        Parameters:\n",
    "          - seed_coord_x: the x-coordinate of the seed of the coral (the y is\n",
    "            assumed to be 0)\n",
    "          - coral_matrix: a numpy array of 0's and 1's that determine where\n",
    "            the coral is\n",
    "        \n",
    "        Returns:\n",
    "        The average distance of the coral. The lower, the denser.\n",
    "    \"\"\"\n",
    "    \n",
    "    # Search through the coral\n",
    "    total_distance = 0\n",
    "    n_pixels = 0\n",
    "    for y in range(len(coral_matrix)):\n",
    "        for x in range(len(coral_matrix[y])):\n",
    "            # If not a coral or the source block, then skip\n",
    "            if (x == seed_coord_x and y == 0) or coral_matrix[y][x] != 1: continue\n",
    "\n",
    "            # If coral, then compute the distance to the source block\n",
    "            total_distance += math.sqrt((x - seed_coord_x)**2 + y**2)\n",
    "            n_pixels += 1\n",
    "\n",
    "    # To return the average distance, we return total / count\n",
    "    return total_distance / n_pixels"
   ]
  },
  {
   "cell_type": "code",
   "execution_count": 11,
   "id": "5f5d2a9c-1df7-41ff-8c54-f0e222708f1a",
   "metadata": {},
   "outputs": [
    {
     "name": "stdout",
     "output_type": "stream",
     "text": [
      "(21,)\n"
     ]
    }
   ],
   "source": [
    "print(object_array[object_array>=1].shape)"
   ]
  },
  {
   "cell_type": "code",
   "execution_count": 12,
   "id": "36cd8f7f-8d1c-4588-867f-d5d18e02ac9a",
   "metadata": {},
   "outputs": [
    {
     "ename": "IndexError",
     "evalue": "index 50 is out of bounds for axis 0 with size 25",
     "output_type": "error",
     "traceback": [
      "\u001b[0;31m---------------------------------------------------------------------------\u001b[0m",
      "\u001b[0;31mIndexError\u001b[0m                                Traceback (most recent call last)",
      "\u001b[0;32m<ipython-input-12-88374a5606ab>\u001b[0m in \u001b[0;36m<module>\u001b[0;34m\u001b[0m\n\u001b[1;32m      4\u001b[0m \u001b[0mobject_array_test\u001b[0m\u001b[0;34m[\u001b[0m\u001b[0;36m20\u001b[0m\u001b[0;34m,\u001b[0m \u001b[0;36m21\u001b[0m\u001b[0;34m]\u001b[0m \u001b[0;34m=\u001b[0m \u001b[0;36m1\u001b[0m\u001b[0;34m\u001b[0m\u001b[0;34m\u001b[0m\u001b[0m\n\u001b[1;32m      5\u001b[0m \u001b[0mobject_array_test\u001b[0m\u001b[0;34m[\u001b[0m\u001b[0;36m21\u001b[0m\u001b[0;34m,\u001b[0m \u001b[0;36m21\u001b[0m\u001b[0;34m]\u001b[0m \u001b[0;34m=\u001b[0m \u001b[0;36m1\u001b[0m\u001b[0;34m\u001b[0m\u001b[0;34m\u001b[0m\u001b[0m\n\u001b[0;32m----> 6\u001b[0;31m \u001b[0mobject_array_trimmed\u001b[0m\u001b[0;34m,\u001b[0m \u001b[0mcandidates_trimmed\u001b[0m \u001b[0;34m=\u001b[0m \u001b[0mcoral_painty_painty\u001b[0m\u001b[0;34m(\u001b[0m\u001b[0mobject_array_test\u001b[0m\u001b[0;34m,\u001b[0m \u001b[0;32mTrue\u001b[0m\u001b[0;34m)\u001b[0m\u001b[0;34m\u001b[0m\u001b[0;34m\u001b[0m\u001b[0m\n\u001b[0m",
      "\u001b[0;32m<ipython-input-9-20a2f228c29b>\u001b[0m in \u001b[0;36mcoral_painty_painty\u001b[0;34m(coral_matrix, copy)\u001b[0m\n\u001b[1;32m     23\u001b[0m \u001b[0;34m\u001b[0m\u001b[0m\n\u001b[1;32m     24\u001b[0m     \u001b[0;31m# Do a breadth-first search starting at the seed to see which pixels are connected to the seed\u001b[0m\u001b[0;34m\u001b[0m\u001b[0;34m\u001b[0m\u001b[0;34m\u001b[0m\u001b[0m\n\u001b[0;32m---> 25\u001b[0;31m     \u001b[0mcoral_matrix\u001b[0m\u001b[0;34m[\u001b[0m\u001b[0;36m0\u001b[0m\u001b[0;34m]\u001b[0m\u001b[0;34m[\u001b[0m\u001b[0;36m50\u001b[0m\u001b[0;34m]\u001b[0m \u001b[0;34m=\u001b[0m \u001b[0;36m2\u001b[0m\u001b[0;34m\u001b[0m\u001b[0;34m\u001b[0m\u001b[0m\n\u001b[0m\u001b[1;32m     26\u001b[0m     \u001b[0mto_do\u001b[0m \u001b[0;34m=\u001b[0m \u001b[0;34m[\u001b[0m\u001b[0;34m(\u001b[0m\u001b[0;36m50\u001b[0m\u001b[0;34m,\u001b[0m \u001b[0;36m0\u001b[0m\u001b[0;34m)\u001b[0m\u001b[0;34m]\u001b[0m\u001b[0;34m\u001b[0m\u001b[0;34m\u001b[0m\u001b[0m\n\u001b[1;32m     27\u001b[0m     \u001b[0mcandidates\u001b[0m \u001b[0;34m=\u001b[0m \u001b[0mset\u001b[0m\u001b[0;34m(\u001b[0m\u001b[0;34m)\u001b[0m\u001b[0;34m\u001b[0m\u001b[0;34m\u001b[0m\u001b[0m\n",
      "\u001b[0;31mIndexError\u001b[0m: index 50 is out of bounds for axis 0 with size 25"
     ]
    }
   ],
   "source": [
    "object_array_test = object_array.copy()\n",
    "object_array_test[20, 20] = 1\n",
    "object_array_test[21, 20] = 1\n",
    "object_array_test[20, 21] = 1\n",
    "object_array_test[21, 21] = 1\n",
    "object_array_trimmed, candidates_trimmed = coral_painty_painty(50, object_array_test, True)"
   ]
  },
  {
   "cell_type": "code",
   "execution_count": null,
   "id": "1cf9ce03-79cb-4038-a15c-6335e7b8b17d",
   "metadata": {},
   "outputs": [],
   "source": [
    "scenario = create_channel(domain_size=(100,100), force=1e-4,duct=True, method='srt', relaxation_rate=1.9)\n",
    "#flag = scenario.boundary_handling.set_boundary(NoSlip(), make_slice[0.3:0.4, 0.0:0.3])\n",
    "#print(np.where(object_array==1))\n",
    "\n",
    "\n",
    "for j in range(N-1):\n",
    "    for i in range(1,N-1):\n",
    "        # if part of object, concentration is zero\n",
    "            if object_array_test[i][j] == 1:\n",
    "                flag = scenario.boundary_handling.set_boundary(NoSlip(), make_slice[j,i])\n",
    "scenario.run(500)\n",
    "\n",
    "plt.figure()\n",
    "plt.scalar_field(scenario.velocity[:,:,0])\n",
    "# plt.vector_field(scenario.velocity_slice());\n",
    "\n",
    "scenario = create_channel(domain_size=(100,100), force=1e-4,duct=True, method='srt', relaxation_rate=1.9)\n",
    "#flag = scenario.boundary_handling.set_boundary(NoSlip(), make_slice[0.3:0.4, 0.0:0.3])\n",
    "#print(np.where(object_array==1))\n",
    "\n",
    "\n",
    "for j in range(N-1):\n",
    "    for i in range(1,N-1):\n",
    "        # if part of object, concentration is zero\n",
    "            if object_array_trimmed[i][j] == 1:\n",
    "                flag = scenario.boundary_handling.set_boundary(NoSlip(), make_slice[j,i])\n",
    "scenario.run(500)\n",
    "\n",
    "plt.figure()\n",
    "plt.scalar_field(scenario.velocity[:,:,0])\n",
    "# plt.vector_field(scenario.velocity_slice());\n",
    "\n",
    "scenario = create_channel(domain_size=(100,100), force=1e-4,duct=True, method='srt', relaxation_rate=1.9)\n",
    "#flag = scenario.boundary_handling.set_boundary(NoSlip(), make_slice[0.3:0.4, 0.0:0.3])\n",
    "#print(np.where(object_array==1))\n",
    "\n",
    "\n",
    "for i, j in candidates_trimmed:\n",
    "    flag = scenario.boundary_handling.set_boundary(NoSlip(), make_slice[j,i])\n",
    "scenario.run(500)\n",
    "\n",
    "plt.figure()\n",
    "plt.scalar_field(scenario.velocity[:,:,0])\n",
    "# plt.vector_field(scenario.velocity_slice());"
   ]
  },
  {
   "cell_type": "code",
   "execution_count": null,
   "id": "abdf03ac-6bdb-48d7-b67b-ff33162642aa",
   "metadata": {},
   "outputs": [],
   "source": [
    "print(coral_density(50, object_array_trimmed))"
   ]
  },
  {
   "cell_type": "code",
   "execution_count": null,
   "id": "6bcc8f29-1c94-42a2-9a66-d234e2872737",
   "metadata": {},
   "outputs": [],
   "source": []
  }
 ],
 "metadata": {
  "celltoolbar": "Raw Cell Format",
  "kernelspec": {
   "display_name": "Python 3",
   "language": "python",
   "name": "python3"
  },
  "language_info": {
   "codemirror_mode": {
    "name": "ipython",
    "version": 3
   },
   "file_extension": ".py",
   "mimetype": "text/x-python",
   "name": "python",
   "nbconvert_exporter": "python",
   "pygments_lexer": "ipython3",
   "version": "3.8.5"
  }
 },
 "nbformat": 4,
 "nbformat_minor": 5
}
