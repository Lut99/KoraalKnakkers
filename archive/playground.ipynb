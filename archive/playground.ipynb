{
 "cells": [
  {
   "cell_type": "code",
   "execution_count": 1,
   "id": "e0250aba",
   "metadata": {},
   "outputs": [],
   "source": [
    "import numpy as np\n",
    "import scipy\n",
    "import matplotlib.pyplot as plt\n",
    "import matplotlib.animation as animation\n",
    "from copy import copy, deepcopy\n",
    "from scipy import special\n",
    "import pandas as pd\n",
    "import matplotlib as mpl\n",
    "from matplotlib.colors import colorConverter\n",
    "import time\n",
    "import pystencils\n",
    "import sympy\n",
    "from lbmpy.session import *\n",
    "import math"
   ]
  },
  {
   "cell_type": "code",
   "execution_count": 2,
   "id": "a419652a",
   "metadata": {},
   "outputs": [],
   "source": [
    "# SOR iterative method with objects\n",
    "\n",
    "def SOR_with_objects(N, omega, object_array, conc_mat):\n",
    "    \"\"\"\n",
    "        Function to find final diffusion gradient with objects.\n",
    "        \n",
    "        Parameters:\n",
    "          - N: grid size (NxN)\n",
    "          - omega : SOR equation constant\n",
    "          - object_array: a numpy array of 0's and 1's that determine where\n",
    "            the object is\n",
    "          - conc_mat: a numpy array containing all concentrations per coordinate\n",
    "        \n",
    "        Returns:\n",
    "        The updated concentration matrix for the diffusion gradient\n",
    "    \"\"\"\n",
    "    \n",
    "    # initialise parameters\n",
    "    epsilon = 10 ** -5 # convergence threshold\n",
    "    diff = 100000 # set to large value    \n",
    "\n",
    "    # loop until convergence\n",
    "    while diff > epsilon:\n",
    "        conc_mat_old = deepcopy(conc_mat)\n",
    "        conc_mat = SOR(conc_mat, omega, object_array)\n",
    "        diff = np.amax(np.abs(conc_mat - conc_mat_old))\n",
    "    return conc_mat\n",
    "\n",
    "def SOR(conc_mat, omega, object_array):\n",
    "    \"\"\"\n",
    "        Function to find diffusion gradient with objects.\n",
    "        \n",
    "        Parameters:\n",
    "          - conc_mat: a numpy array containing all concentrations per coordinate\n",
    "          - omega : SOR equation constant\n",
    "          - object_array: a numpy array of 0's and 1's that determine where\n",
    "            the object is\n",
    "\n",
    "        Returns:\n",
    "        The updated concentration matrix for the diffusion gradient\n",
    "    \"\"\"\n",
    "\n",
    "    # Set inflow boundary to max concentration\n",
    "    # TODO: this is sun diffusion specific so is liable to change\n",
    "    conc_mat[N - 1] = 1\n",
    "    \n",
    "    # go through left boundary\n",
    "    for k in range(1, N - 1):\n",
    "        # if it is part of object, concentration is zero\n",
    "        if object_array[k][0] == 1:\n",
    "                conc_mat[k][0] = 0\n",
    "        # otherwise: SOR equation\n",
    "        else:\n",
    "            conc_mat[k][0] = omega / 4 * (conc_mat[k + 1][0] + conc_mat[k - 1][0] + conc_mat[k][1] + conc_mat[k][N - 1]) + (1 - omega) * conc_mat[k][0]\n",
    "\n",
    "    # loop trough rest/middle of matrix\n",
    "    for j in range(N - 1):\n",
    "        for i in range(1, N - 1):\n",
    "            # if part of object, concentration is zero\n",
    "            if object_array[i][j] == 1:\n",
    "                conc_mat[i][j] = 0\n",
    "            # otherwise: SOR equation\n",
    "            else:\n",
    "                conc_mat[i][j] = (omega / 4) * (conc_mat[i + 1][j] + conc_mat[i - 1][j] + conc_mat[i][j + 1] + conc_mat[i][j - 1]) + (1 - omega) * conc_mat[i][j]\n",
    "                if conc_mat[i][j] < 0:\n",
    "                    conc_mat[i][j] = 0\n",
    "\n",
    "    # go through right boundary\n",
    "    for k in range(1, N - 1):\n",
    "        # if it is part of object, concentration is zero\n",
    "        if object_array[k][N - 1] == 1:\n",
    "            conc_mat[k][N - 1] = 0\n",
    "        # otherwise: SOR equation\n",
    "        else:\n",
    "            conc_mat[k][N - 1] = omega / 4 * (conc_mat[k + 1][N - 1] + conc_mat[k - 1][N - 1] + conc_mat[k][0] + conc_mat[k][N - 2]) + (1 - omega) * conc_mat[k][N - 1]\n",
    "\n",
    "    return conc_mat"
   ]
  },
  {
   "cell_type": "code",
   "execution_count": 3,
   "id": "e3bfde75-f061-4f86-8fab-95b681cebd9b",
   "metadata": {},
   "outputs": [
    {
     "name": "stdout",
     "output_type": "stream",
     "text": [
      "WARNING: No numba (CUDA) installed, you won't be able to run SOR_with_objects_cuda :(\n"
     ]
    }
   ],
   "source": [
    "# SOR iterative method with objects - accelerated using CUDA\n",
    "\n",
    "# We import with exception handling for all the non-CUDA laptops out there :)\n",
    "try:\n",
    "    from numba import cuda, float32\n",
    "    \n",
    "    @cuda.jit\n",
    "    def sunlight_kernel(result, conc_mat, object_array, omega, epsilon, max_iter):\n",
    "        \"\"\"\n",
    "            The kernel executed on the GPU. Computes the diffusion of a single\n",
    "            timestep, contuining until the algorithm converged. Note that the\n",
    "            algorithm actually checks local convergence; however, with an eta that\n",
    "            is small enough this shouldn't cause huge differences.\n",
    "\n",
    "            Parameters:\n",
    "              - result: The N x N matrix that will contain the diffusion gradient\n",
    "                at the next timestep\n",
    "              - conc_mat: The N x N matrix that contains the diffusion\n",
    "                concentrations at the current timestep\n",
    "              - object_array: An N x N matrix that describes where the coral is\n",
    "                with 1's and 0's\n",
    "              - omega: Constant used in SOR to let the algorithm converge faster.\n",
    "              - epsilon: The maximum difference between two timesteps before we say\n",
    "                the algorithm converged\n",
    "              - max_iter: Maximum number of convergence iterations we do\n",
    "\n",
    "            Returns:\n",
    "            nothing\n",
    "        \"\"\"\n",
    "\n",
    "        # First, define a shared array among this block\n",
    "        diffs = cuda.shared.array(32, dtype=float32)\n",
    "\n",
    "        # Fetch the size of the area we work on\n",
    "        N = conc_mat.shape[1]\n",
    "        rows = N - 2\n",
    "        cols = N\n",
    "\n",
    "        # Compute the 2D index of this thread\n",
    "        block_i = cuda.threadIdx.x\n",
    "        i = block_i + cuda.blockIdx.x * cuda.blockDim.x\n",
    "        x, y = i % cols, 1 + i // cols\n",
    "\n",
    "        # If x and y are outside our interested area, quit\n",
    "        if x >= cols or y >= 1 + rows:\n",
    "            return\n",
    "\n",
    "        # If within bounds, then compute the x-coordinates of the left and right neighbours of this cell\n",
    "        lx, rx = x - 1, x + 1\n",
    "        if lx < 0:\n",
    "            lx = N - 1\n",
    "        if rx > N - 1:\n",
    "            rx = 0\n",
    "\n",
    "        # Keep looping until we converge\n",
    "        this_timestep = conc_mat\n",
    "        next_timestep = result\n",
    "        i = 0\n",
    "        for i in range(max_iter):\n",
    "            # Compute the new value from the old one (but only if not a coral block)\n",
    "            new, old = 0, this_timestep[y, x]\n",
    "            if object_array[y, x] != 1:\n",
    "                # Get the average value of all four neighbours\n",
    "                avg_conc = 1/4 * (this_timestep[y + 1, x] + this_timestep[y - 1, x] + this_timestep[y, rx] + this_timestep[y, lx])\n",
    "\n",
    "                # Update the current cell using the SOR formula\n",
    "                new = max(0, omega * avg_conc + (1 - omega) * old)\n",
    "                if new < 0: new = 0\n",
    "\n",
    "            # Update the result and the difference\n",
    "            next_timestep[y, x] = new\n",
    "            diffs[block_i] = abs(new - old)\n",
    "\n",
    "            # Since we're done, swap the pointers for the matrices\n",
    "            temp = this_timestep\n",
    "            this_timestep = next_timestep\n",
    "            next_timestep = temp\n",
    "\n",
    "            # Wait until the other threads in this block reached this point too\n",
    "            cuda.syncthreads()\n",
    "\n",
    "            # Bit double work, but search the diffs for the maximum diff. If that's lower than epsilon, we're done\n",
    "            max_diff = 0\n",
    "            for diff in diffs:\n",
    "                if diff > max_diff:\n",
    "                    max_diff = diff\n",
    "            if max_diff < epsilon:\n",
    "                break\n",
    "\n",
    "            # Otherwise, sync again before the next iteration. Note that this shouldn't cause any deadlocks, as all threads within a block should obtain the same max_diff.\n",
    "            cuda.syncthreads()\n",
    "\n",
    "        # If we're done but we last wrote to conc_mat, then copy the results to conc_mat to always have it carry the result\n",
    "        if i % 2 == 0:\n",
    "            result[y, x] = conc_mat[y, x]\n",
    "\n",
    "            \n",
    "except ImportError as e:\n",
    "    cuda, float32 = None, None\n",
    "    print(\"WARNING: No numba (CUDA) installed, you won't be able to run SOR_with_objects_cuda :(\")\n",
    "import math\n",
    "\n",
    "\n",
    "\n",
    "def SOR_with_objects_cuda(N, omega, object_array, conc_mat, block_size = 32, max_iter = 100):\n",
    "    \"\"\"\n",
    "        Function to find the final diffusion gradient with objects, using\n",
    "        the GPU as accelerator.\n",
    "\n",
    "        Parameters:\n",
    "          - N: the size of the matrices\n",
    "          - omega: constant used in the SOR-method to try and let the diffusal\n",
    "            algorithm converge more quickly\n",
    "          - object_array: N x N matrix consisting of 1's and 0's, denoting\n",
    "            where the coral lives\n",
    "          - conc_mat: N x N matrix that contains the previous diffusal state\n",
    "            of the sunlight\n",
    "          - block_size: number of threads per CUDA warp (Default: 32)\n",
    "          - max_iter: Maximum number of iterations before we always call the\n",
    "            algorithm converged (Default: 100)\n",
    "\n",
    "        Result:\n",
    "        An N x N matrix that describes the diffusion at the next timestep.\n",
    "    \"\"\"\n",
    "    \n",
    "    # First, check if we have access to a CUDA GPU\n",
    "    if len(cuda.gpus) == 0:\n",
    "        raise RuntimeError(\"No CUDA-capable GPUs detected\")\n",
    "    \n",
    "    # We set the top row of the new convergence to be 1's\n",
    "    result = np.zeros(conc_mat.shape, dtype=float)\n",
    "    for x in range(N):\n",
    "        result[N - 1, x] = 1\n",
    "    \n",
    "    # With the GPU available, prepare the arrays to send to the gpu\n",
    "    gpu_object_array = cuda.to_device(object_array)\n",
    "    gpu_conc_mat = cuda.to_device(conc_mat)\n",
    "    gpu_result = cuda.to_device(result)\n",
    "    \n",
    "    # Next, compute the number of blocks needed\n",
    "    n_blocks = int(math.ceil((N * (N - 2)) / block_size))\n",
    "    \n",
    "    # Finally, call the kernel (but override the omega to avoid explosive divergence)\n",
    "    epsilon = 10**-5\n",
    "    sunlight_kernel[n_blocks, block_size](gpu_result, gpu_conc_mat, gpu_object_array, 1.0, epsilon, max_iter)\n",
    "    \n",
    "    # Once done, retrieve the result\n",
    "    result = gpu_result.copy_to_host()\n",
    "    \n",
    "    # Done, return it!\n",
    "    return result"
   ]
  },
  {
   "cell_type": "code",
   "execution_count": 4,
   "id": "cabc294c",
   "metadata": {},
   "outputs": [],
   "source": [
    "def get_candidates_SOR(object_loc, object_array, candidates):\n",
    "    \"\"\"\n",
    "        Function to find the neighbours of an object cell,\n",
    "        if they qualify as growth candidates, add to set \n",
    "        (so all candidates are unique) \n",
    "        \n",
    "        Parameters:\n",
    "          - object_loc: coordinates tuple of new object cell\n",
    "          - object_array: a numpy array of 0's and 1's that determine where\n",
    "            the object is\n",
    "          - candidates: a set of tuples containing the candidate coordinates\n",
    "        \n",
    "        Returns:\n",
    "        The updated candidate set\n",
    "    \"\"\"\n",
    "    # Get object coordinates\n",
    "    y = object_loc[0]\n",
    "    x = object_loc[1]\n",
    "\n",
    "    # check if edirect neighbours are NOT part of object, and add them to candidates\n",
    "    if x != N - 1 and object_array[y][x + 1] == 0:\n",
    "        candidates.add((y, x + 1))\n",
    "        \n",
    "    if x != 0 and object_array[y][x - 1] == 0:\n",
    "        candidates.add((y, x - 1))\n",
    "        \n",
    "    if y != N - 1 and object_array[y + 1][x] == 0:\n",
    "        candidates.add((y + 1, x))\n",
    "        \n",
    "    if y != 0 and object_array[y - 1][x] == 0:\n",
    "        candidates.add((y - 1, x))\n",
    "\n",
    "    return candidates\n",
    "\n",
    "\n",
    "def SOR_DLA_to_solution(N, eta, omega, iterations, backend=\"sequential\"):\n",
    "    \"\"\"\n",
    "        Function to calculate the SOR of a grid with object, \n",
    "        until convergence, with growing object\n",
    "        \n",
    "        Parameters:\n",
    "          - N: desired grid size (NxN)\n",
    "          - eta: weight of concentration gradient for growth\n",
    "          - omega: SOR equation constant\n",
    "          - iterations: how many times the object should grow\n",
    "          - backend: Determines which of the SOR algorithms we use for the\n",
    "            computation. Can be either \"sequential\", to use the default one,\n",
    "            or \"cuda\" to use the one accelerated with CUDA. (Default:\n",
    "            \"sequential\")\n",
    "        \n",
    "        Returns:\n",
    "        - The concentration matrix\n",
    "        - The object_array matrix with fully grown object\n",
    "    \"\"\"\n",
    "    \n",
    "    # Select the backend\n",
    "    SOR_backend = None\n",
    "    if backend == \"sequential\":\n",
    "        SOR_backend = SOR_with_objects\n",
    "    elif backend == \"cuda\":\n",
    "        # Make sure CUDA is installed and present, though\n",
    "        if cuda is None or len(cuda.gpus) == 0:\n",
    "            raise RuntimeError(\"numba not installed or no CUDA-capable device present; you cannot use the cuda backend\")\n",
    "        \n",
    "        # Otherwise, set the backend as usual\n",
    "        SOR_backend = SOR_with_objects_cuda\n",
    "    else:\n",
    "        raise ValueError(f\"Unknown backend '{backend}'\")\n",
    "    \n",
    "    # Calculate the analytic solution at t = 1\n",
    "    t = 1\n",
    "    analytic_sol = lambda x, D, t: sum([scipy.special.erfc((1 - x + 2 * i) / (2 * np.sqrt(D * t))) - scipy.special.erfc((1 + x + 2 * i) / (2 * np.sqrt(D * t))) for i in range(10000)])\n",
    "    x = np.arange(0, 1, 1 / N)\n",
    "    analytic_matrix = analytic_sol(x, 1, t)\n",
    "    seed_coor_x = int(N / 2)  # set seed at bottom middle of grid\n",
    "\n",
    "    # initialise start diffusion gradient as the analytic solution\n",
    "    conc_mat = np.zeros((N, N))\n",
    "    for i in range(N):\n",
    "        conc_mat[i] = analytic_matrix[i]\n",
    "\n",
    "    # TODO: this is also done in SOR() <- SOR_with_objects()\n",
    "    # and thus unnecessary here, but left just in case of \n",
    "    # nutrient diffusion addition making it needed here\n",
    "    # (check after big merge)\n",
    "    # source top boundary\n",
    "    conc_mat[N - 1] = 1\n",
    "\n",
    "    # initalisation of array with seed of object\n",
    "    object_array = np.zeros((N, N))\n",
    "    object_array[0, seed_coor_x] = 1\n",
    "    candidates = set()\n",
    "    candidates = get_candidates_SOR((0, seed_coor_x), object_array, candidates)\n",
    "    \n",
    "    # first SOR to initialize starting concentrations\n",
    "    conc_mat = SOR_backend(N, omega, object_array, conc_mat)\n",
    "     \n",
    "    # loop until object is grown 'iterations' times, finding SOR with each growth\n",
    "    for _ in range(iterations):\n",
    "        object_array, candidates = choose_growth(N, eta, conc_mat, candidates, object_array)\n",
    "        conc_mat = SOR_backend(N, omega, object_array, conc_mat)\n",
    "\n",
    "    plt.imshow(conc_mat, origin='lower', extent=[0, 1, 0, 1], cmap='Spectral')\n",
    "    \n",
    "    return conc_mat, object_array\n",
    "\n",
    "\n",
    "def choose_growth(N, eta, conc_mat, candidates, object_array):\n",
    "    \"\"\"\n",
    "        Function to calculate growth probabilities of each candidate cell,\n",
    "        choose one and grow it this timestep\n",
    "        \n",
    "        Parameters:\n",
    "          - N: grid size (NxN)\n",
    "          - eta: weight of concentration gradient for growth\n",
    "          - conc_mat: numpy array containing all concentrations per coordinate\n",
    "          - candidates: set of tuple coordinates of all growable cells \n",
    "        \n",
    "        Returns:\n",
    "        - Updated object_array matrix with newly grown object cell\n",
    "        - Updated candidate set\n",
    "    \"\"\"\n",
    "    \n",
    "    # TODO: add necessary input constants as arguments (nutrient diff)\n",
    "    \n",
    "    probs = []  # store all candidate grow probabilities\n",
    "    list_candidates = list(candidates)  # ensure same ordering \n",
    "    \n",
    "    for i in candidates:\n",
    "        prob_sun = (conc_mat[i] ** eta) / np.sum([conc_mat[cand] ** eta for cand in candidates])\n",
    "        # TODO: calculate nutrient probability and combine\n",
    "        # prob_nut =\n",
    "        # probs.append(alpha * prob_sun + (1 - alpha) * prob_nut)\n",
    "        probs.append(prob_sun)\n",
    "\n",
    "    # choose a candidate and grow\n",
    "    chosen_growth = list_candidates[np.random.choice(len(candidates), p=probs)]\n",
    "    object_array[chosen_growth] = 1\n",
    "    conc_mat[chosen_growth] = 0  # set conc to 0 where object has grown\n",
    "    # update candidate set after growth\n",
    "    candidates = get_candidates_SOR(chosen_growth, object_array, candidates)\n",
    "    # delete newly grown cell from growth candidates\n",
    "    candidates.remove(chosen_growth)\n",
    "    \n",
    "    return object_array, candidates\n",
    "    "
   ]
  },
  {
   "cell_type": "code",
   "execution_count": 5,
   "id": "be256a7b",
   "metadata": {},
   "outputs": [],
   "source": [
    "# function to make a combined imshow plot, where the object is visible along with the gradient\n",
    "\n",
    "## code (with small adjustments) based on answer at: https://stackoverflow.com/questions/10127284/overlay-imshow-plots-in-matplotlib\n",
    "def plot_object_gradient(conc_mat, object_array, eta):\n",
    "    # generate the colors for your colormap\n",
    "    color1 = colorConverter.to_rgba('white')\n",
    "    color2 = colorConverter.to_rgba('black')\n",
    "\n",
    "    # make the colormaps\n",
    "    cmap2 = mpl.colors.LinearSegmentedColormap.from_list('my_cmap2', [color1,color2], 256)\n",
    "    cmap2._init() # create the _lut array, with rgba values\n",
    "\n",
    "    # create your alpha array and fill the colormap with them.\n",
    "    # here it is progressive, but you can create whathever you want\n",
    "    alphas = np.linspace(0, 0.8, cmap2.N + 3)\n",
    "    cmap2._lut[:, -1] = alphas\n",
    "\n",
    "    img2 = plt.imshow(conc_mat, interpolation='nearest', cmap='Spectral', origin='lower', extent=[0, 1, 0, 1])\n",
    "    plt.colorbar()\n",
    "    img3 = plt.imshow(object_array, interpolation='nearest', cmap=cmap2, origin='lower', extent=[0, 1, 0, 1])\n",
    "\n",
    "    plt.title(f\"Object with gradient, eta = {eta}\")\n",
    "\n",
    "    plt.show()"
   ]
  },
  {
   "cell_type": "code",
   "execution_count": 6,
   "id": "887a53e1",
   "metadata": {},
   "outputs": [
    {
     "data": {
      "image/png": "[encoded data removed]",
      "text/plain": [
       "<Figure size 1152x432 with 2 Axes>"
      ]
     },
     "metadata": {
      "needs_background": "light"
     },
     "output_type": "display_data"
    }
   ],
   "source": [
    "# test run\n",
    "\n",
    "# initialise parameters\n",
    "N = 50\n",
    "eta = 1 \n",
    "omega = 1.5\n",
    "iterations = 70\n",
    "\n",
    "conc_mat, object_array = SOR_DLA_to_solution(N, eta,omega, iterations, backend=\"sequential\")\n",
    "plot_object_gradient(conc_mat, object_array, 1)"
   ]
  },
  {
   "cell_type": "code",
   "execution_count": 7,
   "id": "03ea022b",
   "metadata": {},
   "outputs": [
    {
     "data": {
      "text/plain": [
       "<matplotlib.image.AxesImage at 0x7f8c3b5975e0>"
      ]
     },
     "execution_count": 7,
     "metadata": {},
     "output_type": "execute_result"
    },
    {
     "data": {
      "image/png": "[encoded data removed]",
      "text/plain": [
       "<Figure size 3200x1200 with 1 Axes>"
      ]
     },
     "metadata": {
      "needs_background": "light"
     },
     "output_type": "display_data"
    }
   ],
   "source": [
    "import pystencils\n",
    "import sympy\n",
    "from lbmpy.session import *\n",
    "# example lid driven cavity\n",
    "ldc = create_lid_driven_cavity(domain_size=(100, 40), method='srt', relaxation_rate=1.6)\n",
    "\n",
    "ldc.run(500)\n",
    "plt.figure(dpi=200)\n",
    "#plt.vector_field(ldc.velocity_slice());\n",
    "\n",
    "plt.scalar_field(ldc.velocity[:, :, 0])"
   ]
  },
  {
   "cell_type": "code",
   "execution_count": 8,
   "id": "1bf12884",
   "metadata": {},
   "outputs": [
    {
     "data": {
      "text/plain": [
       "<matplotlib.image.AxesImage at 0x7f8c3b4bdbb0>"
      ]
     },
     "execution_count": 8,
     "metadata": {},
     "output_type": "execute_result"
    },
    {
     "data": {
      "image/png": "[encoded data removed]",
      "text/plain": [
       "<Figure size 1152x432 with 1 Axes>"
      ]
     },
     "metadata": {
      "needs_background": "light"
     },
     "output_type": "display_data"
    }
   ],
   "source": [
    "scenario = create_channel(domain_size=(100,100), force=1e-4, duct=True, method='srt', relaxation_rate=1.9)\n",
    "#flag = scenario.boundary_handling.set_boundary(NoSlip(), make_slice[0.3:0.4, 0.0:0.3])\n",
    "#print(np.where(object_array==1))\n",
    "\n",
    "for j in range(N-1):\n",
    "    for i in range(1,N-1):\n",
    "        # if part of object, concentration is zero\n",
    "            if object_array[i][j] == 1:\n",
    "                flag = scenario.boundary_handling.set_boundary(NoSlip(), make_slice[j, i])\n",
    "                \n",
    "scenario.run(500)\n",
    "\n",
    "plt.figure()\n",
    "plt.scalar_field(scenario.velocity[:,:,0])\n",
    "# plt.vector_field(scenario.velocity_slice());"
   ]
  },
  {
   "cell_type": "code",
   "execution_count": 9,
   "id": "165fcf7f",
   "metadata": {},
   "outputs": [],
   "source": [
    "# The threshold which the pressure needs to reach before the coral breaks (disappears)\n",
    "THRESHOLD = 0.005\n",
    "\n",
    "def coral_breaky_breaky(seed_coord_x, coral_matrix, vector_field, copy=True):\n",
    "    \"\"\"\n",
    "        Function that computes if the coral is gonna breaky breaky\n",
    "        \n",
    "        Parameters:\n",
    "          - seed_coord_x: the x-coordinate of the seed of the coral (the y is\n",
    "            assumed to be 0)\n",
    "          - coral_matrix: a numpy array of 0's and 1's that determine where\n",
    "            the coral is\n",
    "          - vector_field: (I assume?) een numpy array of 2D vectors\n",
    "          - copy: If True, does not modify the original object but instead returns a new one\n",
    "          \n",
    "        Returns:\n",
    "          - The coral matrix with the relevant pixels removed\n",
    "          - Broken boolean: True if part of coral got removed, else False\n",
    "          \n",
    "        O.O does it work?\n",
    "    \"\"\"\n",
    "    \n",
    "    # Copy the matrix if the user so desires\n",
    "    if copy:\n",
    "        coral_matrix = coral_matrix.copy()\n",
    "    \n",
    "    # Keep track whether part of coral has broken off\n",
    "    broken = False\n",
    "        \n",
    "    # Loop through the coral matrix to find the corals\n",
    "    for y in range(len(coral_matrix)):\n",
    "        for x in range(len(coral_matrix[y])):\n",
    "            if (x == seed_coord_x and y == 0) or coral_matrix[y][x] == 0: continue\n",
    "\n",
    "            # Compute the pressure at this point (i.e., length of the vector)\n",
    "            pressure = math.sqrt(vector_field[x, y][0] ** 2 + vector_field[x, y][1] ** 2)\n",
    "\n",
    "            # If the pressure exceeds the threshold, remove the coral (:()\n",
    "            if pressure > THRESHOLD:\n",
    "                coral_matrix[y][x] = 0\n",
    "                broken = True\n",
    "\n",
    "    # We're done! Return the results\n",
    "    return coral_matrix, broken"
   ]
  },
  {
   "cell_type": "code",
   "execution_count": 10,
   "id": "54406696",
   "metadata": {},
   "outputs": [],
   "source": [
    "def coral_painty_painty(seed_coord_x, coral_matrix, copy=True):\n",
    "    \"\"\"\n",
    "        Function that checks which pixels are still connected to the source,\n",
    "        and removes them. Also returns a new list of potential growth\n",
    "        candidates.\n",
    "        \n",
    "        Note: We assume that a diagonal connection == no connection\n",
    "        \n",
    "        Parameters:\n",
    "          - seed_coord_x: the x-coordinate of the seed of the coral (the y is\n",
    "            assumed to be 0)\n",
    "          - coral_matrix: a numpy array of 0's and 1's that determine where\n",
    "            the coral is\n",
    "          - copy: If True, does not modify the original object but instead returns a new one\n",
    "        \n",
    "        Returns:\n",
    "        A tuple of:\n",
    "          - The coral matrix, with all the unconnected pixels removed\n",
    "          - A new list of growth candidates\n",
    "    \"\"\"\n",
    "    \n",
    "    # Copy the matrix if the user so desires\n",
    "    if copy:\n",
    "        coral_matrix = coral_matrix.copy()\n",
    "        \n",
    "    # Do a breadth-first search starting at the seed to see which pixels are connected to the seed\n",
    "    coral_matrix[0][seed_coord_x] = 2\n",
    "    to_do = [(seed_coord_x, 0)]\n",
    "    candidates = set()\n",
    "    while len(to_do) > 0:\n",
    "        # Fetch the pixel to check\n",
    "        x, y = to_do[0]\n",
    "        to_do = to_do[1:]\n",
    "        \n",
    "        # Get the area around the pixel\n",
    "        for neighbour in [(-1, 0), (0, 1), (1, 0), (0, -1)]:\n",
    "            nx = x + neighbour[0]\n",
    "            ny = y + neighbour[1]\n",
    "            \n",
    "            # Skip if the pixel is out-of-bounds\n",
    "            if nx < 0 or nx > coral_matrix.shape[0] - 1 or ny < 0 or ny > coral_matrix.shape[1] - 1:\n",
    "                continue\n",
    "            \n",
    "            # If the pixel is not a pixel, then store it as possible growth candidate\n",
    "            if coral_matrix[ny][nx] == 0:\n",
    "                # Uncomment for the correct candidates order\n",
    "#                 candidates.add((nx, ny))\n",
    "                candidates.add((ny, nx))\n",
    "            \n",
    "            # If it is an (unvisited) pixel, then mark as visited/connected and add it to the todo list\n",
    "            if coral_matrix[ny][nx] == 1:\n",
    "                # Mark the pixel as connected\n",
    "                coral_matrix[ny][nx] = 2\n",
    "                \n",
    "                # Add to the queue\n",
    "                to_do.append((nx, ny))\n",
    "    \n",
    "    # Go thru the matrix again and remove anything that's a 1\n",
    "    coral_matrix[coral_matrix == 1] = 0\n",
    "    # Convert the visited pixels back to 1's\n",
    "    coral_matrix[coral_matrix == 2] = 1\n",
    "    \n",
    "    # Done!\n",
    "    return coral_matrix, candidates\n"
   ]
  },
  {
   "cell_type": "code",
   "execution_count": 11,
   "id": "ee2a27db",
   "metadata": {},
   "outputs": [],
   "source": [
    "def coral_density(seed_coord_x, coral_matrix):\n",
    "    \"\"\"\n",
    "        Function that computes the average distance per pixel to the source\n",
    "        for the entire coral.\n",
    "        \n",
    "        Parameters:\n",
    "          - seed_coord_x: the x-coordinate of the seed of the coral (the y is\n",
    "            assumed to be 0)\n",
    "          - coral_matrix: a numpy array of 0's and 1's that determine where\n",
    "            the coral is\n",
    "        \n",
    "        Returns:\n",
    "        The average distance of the coral. The lower, the denser.\n",
    "    \"\"\"\n",
    "    \n",
    "    # Search through the coral\n",
    "    total_distance = 0\n",
    "    n_pixels = 0\n",
    "    for y in range(len(coral_matrix)):\n",
    "        for x in range(len(coral_matrix[y])):\n",
    "            # If not a coral or the source block, then skip\n",
    "            if (x == seed_coord_x and y == 0) or coral_matrix[y][x] != 1: continue\n",
    "\n",
    "            # If coral, then compute the distance to the source block\n",
    "            total_distance += math.sqrt((x - seed_coord_x)**2 + y**2)\n",
    "            n_pixels += 1\n",
    "\n",
    "    # To return the average distance, we return total / count\n",
    "    return total_distance / n_pixels"
   ]
  },
  {
   "cell_type": "code",
   "execution_count": 12,
   "id": "d32c29ac",
   "metadata": {},
   "outputs": [
    {
     "name": "stdout",
     "output_type": "stream",
     "text": [
      "(71,)\n"
     ]
    }
   ],
   "source": [
    "print(object_array[object_array>=1].shape)"
   ]
  },
  {
   "cell_type": "code",
   "execution_count": 13,
   "id": "a53c01c1",
   "metadata": {},
   "outputs": [],
   "source": [
    "object_array_test = object_array.copy()\n",
    "\n",
    "test_space = int(N / 4)\n",
    "object_array_test[test_space, test_space] = 1\n",
    "object_array_test[test_space + 1, test_space] = 1\n",
    "object_array_test[test_space, test_space + 1] = 1\n",
    "object_array_test[test_space, test_space] = 1\n",
    "\n",
    "object_array_trimmed, candidates_trimmed = coral_painty_painty(int(N / 2), object_array_test, True)"
   ]
  },
  {
   "cell_type": "code",
   "execution_count": 14,
   "id": "e04e9136",
   "metadata": {},
   "outputs": [
    {
     "data": {
      "text/plain": [
       "<matplotlib.image.AxesImage at 0x7f8c3b37ad60>"
      ]
     },
     "execution_count": 14,
     "metadata": {},
     "output_type": "execute_result"
    },
    {
     "data": {
      "image/png": "[encoded data removed]",
      "text/plain": [
       "<Figure size 1152x432 with 1 Axes>"
      ]
     },
     "metadata": {
      "needs_background": "light"
     },
     "output_type": "display_data"
    },
    {
     "data": {
      "image/png": "[encoded data removed]",
      "text/plain": [
       "<Figure size 1152x432 with 1 Axes>"
      ]
     },
     "metadata": {
      "needs_background": "light"
     },
     "output_type": "display_data"
    },
    {
     "data": {
      "image/png": "[encoded data removed]",
      "text/plain": [
       "<Figure size 1152x432 with 1 Axes>"
      ]
     },
     "metadata": {
      "needs_background": "light"
     },
     "output_type": "display_data"
    }
   ],
   "source": [
    "scenario = create_channel(domain_size=(100,100), force=1e-4,duct=True, method='srt', relaxation_rate=1.9)\n",
    "#flag = scenario.boundary_handling.set_boundary(NoSlip(), make_slice[0.3:0.4, 0.0:0.3])\n",
    "#print(np.where(object_array==1))\n",
    "\n",
    "\n",
    "for j in range(N-1):\n",
    "    for i in range(1,N-1):\n",
    "        # if part of object, concentration is zero\n",
    "            if object_array_test[i][j] == 1:\n",
    "                flag = scenario.boundary_handling.set_boundary(NoSlip(), make_slice[j,i])\n",
    "scenario.run(500)\n",
    "\n",
    "plt.figure()\n",
    "plt.scalar_field(scenario.velocity[:,:,0])\n",
    "# plt.vector_field(scenario.velocity_slice());\n",
    "\n",
    "scenario = create_channel(domain_size=(100,100), force=1e-4,duct=True, method='srt', relaxation_rate=1.9)\n",
    "#flag = scenario.boundary_handling.set_boundary(NoSlip(), make_slice[0.3:0.4, 0.0:0.3])\n",
    "#print(np.where(object_array==1))\n",
    "\n",
    "\n",
    "for j in range(N-1):\n",
    "    for i in range(1,N-1):\n",
    "        # if part of object, concentration is zero\n",
    "            if object_array_trimmed[i][j] == 1:\n",
    "                flag = scenario.boundary_handling.set_boundary(NoSlip(), make_slice[j,i])\n",
    "scenario.run(500)\n",
    "\n",
    "plt.figure()\n",
    "plt.scalar_field(scenario.velocity[:,:,0])\n",
    "# plt.vector_field(scenario.velocity_slice());\n",
    "\n",
    "scenario = create_channel(domain_size=(100,100), force=1e-4,duct=True, method='srt', relaxation_rate=1.9)\n",
    "#flag = scenario.boundary_handling.set_boundary(NoSlip(), make_slice[0.3:0.4, 0.0:0.3])\n",
    "#print(np.where(object_array==1))\n",
    "\n",
    "\n",
    "for i, j in candidates_trimmed:\n",
    "    flag = scenario.boundary_handling.set_boundary(NoSlip(), make_slice[j,i])\n",
    "scenario.run(500)\n",
    "\n",
    "plt.figure()\n",
    "plt.scalar_field(scenario.velocity[:,:,0])\n",
    "# plt.vector_field(scenario.velocity_slice());"
   ]
  },
  {
   "cell_type": "code",
   "execution_count": 15,
   "id": "3994d31f",
   "metadata": {},
   "outputs": [
    {
     "name": "stdout",
     "output_type": "stream",
     "text": [
      "26.30165549747392\n"
     ]
    }
   ],
   "source": [
    "print(coral_density(50, object_array_trimmed))"
   ]
  },
  {
   "cell_type": "code",
   "execution_count": 16,
   "id": "13494570",
   "metadata": {},
   "outputs": [
    {
     "data": {
      "text/plain": [
       "<matplotlib.image.AxesImage at 0x7f8c3b3f1730>"
      ]
     },
     "execution_count": 16,
     "metadata": {},
     "output_type": "execute_result"
    },
    {
     "data": {
      "image/png": "[encoded data removed]",
      "text/plain": [
       "<Figure size 432x432 with 1 Axes>"
      ]
     },
     "metadata": {
      "needs_background": "light"
     },
     "output_type": "display_data"
    }
   ],
   "source": [
    "object_array_trimmed\n",
    "\n",
    "import matplotlib.pyplot as plt\n",
    "# plt.matshow(object_array_trimmed)\n",
    "plt.matshow(object_array_trimmed, cmap = plt.cm.binary, origin='lower')"
   ]
  },
  {
   "cell_type": "code",
   "execution_count": 31,
   "id": "72030a6c",
   "metadata": {},
   "outputs": [
    {
     "name": "stdout",
     "output_type": "stream",
     "text": [
      "0.04285714285714286\n"
     ]
    }
   ],
   "source": [
    "def branch_factor(coral_matrix):\n",
    "    \"\"\"\n",
    "        Function that computes The fraction of coral cells which are center cells. \n",
    "        The higher the number the more dense the coral is.\n",
    "        Parameters:\n",
    "          - coral matrix\n",
    "        \n",
    "        Returns:\n",
    "            The fraction of cells which are only surrounded by coral.\n",
    "    \"\"\"\n",
    "    edge_cells = set()\n",
    "    coral_size = 0\n",
    "    for row in range(len(coral_matrix)):\n",
    "        for element in range(len(coral_matrix)):\n",
    "            # If cell is not coral, continue            \n",
    "            if coral_matrix[row][element] == 0:\n",
    "                continue\n",
    "            else:\n",
    "                coral_size +=1\n",
    "                # Check all neighbours\n",
    "                for neighbour in [(-1, 0), (0, 1), (1, 0), (0, -1)]:\n",
    "                    nx = row + neighbour[0]\n",
    "                    ny = element + neighbour[1]\n",
    "            \n",
    "                    # Skip if the pixel is out-of-bounds\n",
    "                    if nx < 0 or nx > coral_matrix.shape[0] - 1 or ny < 0 or ny > coral_matrix.shape[1] - 1:\n",
    "                        continue\n",
    "                        \n",
    "                    # If neighbour is sea, the cell is an edge.\n",
    "                    if coral_matrix[nx][ny] == 0:\n",
    "                        edge_cells.add((row, element))\n",
    "                        break\n",
    "            \n",
    "    core_cells = (coral_size-1) - (len(edge_cells)-1)\n",
    "    \n",
    "    return(core_cells/(coral_size-1))\n",
    "    \n",
    "    \n",
    "dense = branch_factor(object_array_trimmed)\n",
    "print(dense)"
   ]
  },
  {
   "cell_type": "code",
   "execution_count": 29,
   "id": "d20cb061",
   "metadata": {},
   "outputs": [
    {
     "name": "stdout",
     "output_type": "stream",
     "text": [
      "0.04285714285714286\n"
     ]
    }
   ],
   "source": [
    "print(3/70)"
   ]
  },
  {
   "cell_type": "code",
   "execution_count": 19,
   "id": "c3af39de",
   "metadata": {},
   "outputs": [
    {
     "data": {
      "text/plain": [
       "<matplotlib.image.AxesImage at 0x7f8c3d919cd0>"
      ]
     },
     "execution_count": 19,
     "metadata": {},
     "output_type": "execute_result"
    },
    {
     "data": {
      "image/png": "[encoded data removed]",
      "text/plain": [
       "<Figure size 432x432 with 1 Axes>"
      ]
     },
     "metadata": {
      "needs_background": "light"
     },
     "output_type": "display_data"
    }
   ],
   "source": [
    "# tester = object_array_trimmed\n",
    "# tester[0][25] = 2\n",
    "plt.matshow(object_array_trimmed, cmap = plt.cm.binary, origin='lower')"
   ]
  },
  {
   "cell_type": "code",
   "execution_count": null,
   "id": "91c9f101",
   "metadata": {},
   "outputs": [],
   "source": [
    "print(len(object_array_trimmed))\n",
    "print(object_array_trimmed[0])\n",
    "print(N)"
   ]
  }
 ],
 "metadata": {
  "celltoolbar": "Raw Cell Format",
  "interpreter": {
   "hash": "31f2aee4e71d21fbe5cf8b01ff0e069b9275f58929596ceb00d14d90e3e16cd6"
  },
  "kernelspec": {
   "display_name": "Python 3",
   "language": "python",
   "name": "python3"
  },
  "language_info": {
   "codemirror_mode": {
    "name": "ipython",
    "version": 3
   },
   "file_extension": ".py",
   "mimetype": "text/x-python",
   "name": "python",
   "nbconvert_exporter": "python",
   "pygments_lexer": "ipython3",
   "version": "3.8.5"
  }
 },
 "nbformat": 4,
 "nbformat_minor": 5
}
